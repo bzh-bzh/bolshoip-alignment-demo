{
 "cells": [
  {
   "cell_type": "code",
   "execution_count": 25,
   "metadata": {},
   "outputs": [
    {
     "name": "stdout",
     "output_type": "stream",
     "text": [
      "Populating the interactive namespace from numpy and matplotlib\n"
     ]
    }
   ],
   "source": [
    "import numpy as np\n",
    "import scipy.ndimage\n",
    "import scipy.stats\n",
    "import pandas\n",
    "\n",
    "import numba\n",
    "\n",
    "%pylab inline"
   ]
  },
  {
   "cell_type": "markdown",
   "metadata": {},
   "source": [
    "# Halo catalog\n",
    "\n",
    "We use the ROCKSTAR halo catalog from Bolshoi-Planck, for a single snapshot: `a = 0.28850` for `z ~ 2.5`, and `a = 0.45556` for `z ~ 1.2`.\n",
    "\n",
    "The halo catalogs are paired with the corresponding dark matter binned density for the same snapshot. `TWEB_EIGENVEC_PATH` is where the deformation tensor eigenvectors are cached, so we only have to compute them once (since it's a very time and memory intensive operation)."
   ]
  },
  {
   "cell_type": "code",
   "execution_count": 2,
   "metadata": {},
   "outputs": [],
   "source": [
    "z2_5 = False\n",
    "\n",
    "if z2_5:\n",
    "    HALO_CAT_PATH = 'data/hlist_0.28850.list'\n",
    "    SIM_DENSITY_PATH = 'data/dens_0094.bin'\n",
    "    TWEB_EIGENVEC_PATH = 'data/z2.5-tweb-eigenvec.npy'\n",
    "else:\n",
    "    HALO_CAT_PATH = 'data/hlist_0.45556.list'\n",
    "    SIM_DENSITY_PATH = 'data/dens_0127.bin'\n",
    "    TWEB_EIGENVEC_PATH = 'data/z1.2-tweb-eigenvec.npy'"
   ]
  },
  {
   "cell_type": "markdown",
   "metadata": {},
   "source": [
    "`x/y/z_snap` is the halo's position in Mpc/h, while `ax/ay/az_snap` is the halo's longest-axis vector, or its \"shape\". It's also in Mpc/h, though we normalize it so the length doesn't matter."
   ]
  },
  {
   "cell_type": "code",
   "execution_count": 3,
   "metadata": {},
   "outputs": [],
   "source": [
    "halo_cat = pandas.read_csv(HALO_CAT_PATH, header=None, comment='#', delim_whitespace=True)\n",
    "named_cols = {1: 'id', 10: 'mvir_snap', 17: 'x_snap', 18: 'y_snap', 19: 'z_snap', 48: 'ax_snap', 49: 'ay_snap', 50: 'az_snap'}\n",
    "halo_cat.rename(columns=named_cols, inplace=True)\n",
    "halo_cat = halo_cat[named_cols.values()]\n",
    "halo_cat.dropna(inplace=True)"
   ]
  },
  {
   "cell_type": "code",
   "execution_count": 4,
   "metadata": {},
   "outputs": [
    {
     "data": {
      "text/html": [
       "<div>\n",
       "<style scoped>\n",
       "    .dataframe tbody tr th:only-of-type {\n",
       "        vertical-align: middle;\n",
       "    }\n",
       "\n",
       "    .dataframe tbody tr th {\n",
       "        vertical-align: top;\n",
       "    }\n",
       "\n",
       "    .dataframe thead th {\n",
       "        text-align: right;\n",
       "    }\n",
       "</style>\n",
       "<table border=\"1\" class=\"dataframe\">\n",
       "  <thead>\n",
       "    <tr style=\"text-align: right;\">\n",
       "      <th></th>\n",
       "      <th>id</th>\n",
       "      <th>mvir_snap</th>\n",
       "      <th>x_snap</th>\n",
       "      <th>y_snap</th>\n",
       "      <th>z_snap</th>\n",
       "      <th>ax_snap</th>\n",
       "      <th>ay_snap</th>\n",
       "      <th>az_snap</th>\n",
       "    </tr>\n",
       "  </thead>\n",
       "  <tbody>\n",
       "    <tr>\n",
       "      <th>0</th>\n",
       "      <td>1396669844</td>\n",
       "      <td>1.050000e+14</td>\n",
       "      <td>35.89050</td>\n",
       "      <td>42.84833</td>\n",
       "      <td>18.69807</td>\n",
       "      <td>85.04220</td>\n",
       "      <td>-46.89590</td>\n",
       "      <td>-6.75773</td>\n",
       "    </tr>\n",
       "    <tr>\n",
       "      <th>1</th>\n",
       "      <td>1396669845</td>\n",
       "      <td>1.457000e+10</td>\n",
       "      <td>35.89394</td>\n",
       "      <td>43.07526</td>\n",
       "      <td>18.55927</td>\n",
       "      <td>2.55782</td>\n",
       "      <td>5.05327</td>\n",
       "      <td>-4.26330</td>\n",
       "    </tr>\n",
       "    <tr>\n",
       "      <th>2</th>\n",
       "      <td>1396669846</td>\n",
       "      <td>8.368000e+09</td>\n",
       "      <td>35.98213</td>\n",
       "      <td>42.89507</td>\n",
       "      <td>18.83903</td>\n",
       "      <td>1.98632</td>\n",
       "      <td>3.66820</td>\n",
       "      <td>0.29241</td>\n",
       "    </tr>\n",
       "    <tr>\n",
       "      <th>3</th>\n",
       "      <td>1396669848</td>\n",
       "      <td>4.649000e+09</td>\n",
       "      <td>35.78321</td>\n",
       "      <td>43.07677</td>\n",
       "      <td>18.87197</td>\n",
       "      <td>7.98919</td>\n",
       "      <td>8.44344</td>\n",
       "      <td>4.15659</td>\n",
       "    </tr>\n",
       "    <tr>\n",
       "      <th>4</th>\n",
       "      <td>1396669849</td>\n",
       "      <td>4.649000e+09</td>\n",
       "      <td>35.75792</td>\n",
       "      <td>42.86027</td>\n",
       "      <td>18.47008</td>\n",
       "      <td>-3.64369</td>\n",
       "      <td>1.87966</td>\n",
       "      <td>5.74206</td>\n",
       "    </tr>\n",
       "  </tbody>\n",
       "</table>\n",
       "</div>"
      ],
      "text/plain": [
       "           id     mvir_snap    x_snap    y_snap    z_snap   ax_snap   ay_snap  \\\n",
       "0  1396669844  1.050000e+14  35.89050  42.84833  18.69807  85.04220 -46.89590   \n",
       "1  1396669845  1.457000e+10  35.89394  43.07526  18.55927   2.55782   5.05327   \n",
       "2  1396669846  8.368000e+09  35.98213  42.89507  18.83903   1.98632   3.66820   \n",
       "3  1396669848  4.649000e+09  35.78321  43.07677  18.87197   7.98919   8.44344   \n",
       "4  1396669849  4.649000e+09  35.75792  42.86027  18.47008  -3.64369   1.87966   \n",
       "\n",
       "   az_snap  \n",
       "0 -6.75773  \n",
       "1 -4.26330  \n",
       "2  0.29241  \n",
       "3  4.15659  \n",
       "4  5.74206  "
      ]
     },
     "execution_count": 4,
     "metadata": {},
     "output_type": "execute_result"
    }
   ],
   "source": [
    "halo_cat.head()"
   ]
  },
  {
   "cell_type": "code",
   "execution_count": 5,
   "metadata": {},
   "outputs": [],
   "source": [
    "halo_positions = halo_cat[['x_snap', 'y_snap', 'z_snap']].to_numpy()\n",
    "halo_shapes = halo_cat[['ax_snap', 'ay_snap', 'az_snap']].to_numpy()"
   ]
  },
  {
   "cell_type": "markdown",
   "metadata": {},
   "source": [
    "# Cosmic web deformation tensor\n",
    "\n",
    "We compute the deformation tensor eigenvectors from the binned DM density and save them.\n",
    "\n",
    "We smooth the density before computing the deformation tensor, so the tensor doesn't vary wildly from point to point. We follow Krolewski et al. 2016, and smooth with a constant 2 Mpc/h Gaussian kernel. Due to memory constraints, we also spline-interpolate the density down from 1024 pixels to 512 pixels.\n",
    "\n",
    "As a reminder, the eigenvectors of the deformation tensor are $\\vec{e_1}, \\vec{e_2}, \\vec{e_3}$, which are sorted in descending order by their corresponding eigenvalues.\n",
    "The direction of cosmic web filaments is along $\\vec{e_3}$, as is the plane of cosmic web sheets.\n",
    "\n",
    "The output of `compute_deformation_tensor()` is a `512 x 512 x 512 x 3 x 3` ndarray. The `3 x 3` matrix at each point is the deformation tensor eigenvectors, but slicing along the 1st and not the 0th axis of the matrix yields the tensor eigenvectors."
   ]
  },
  {
   "cell_type": "code",
   "execution_count": 6,
   "metadata": {},
   "outputs": [],
   "source": [
    "# Credit to Alex Krolewski.\n",
    "def compute_deformation_tensor(dm_density):\n",
    "\tdelta_k = np.fft.fftn(dm_density)\n",
    "\tkx = np.fft.fftfreq(len(delta_k))\n",
    "\tky = np.fft.fftfreq(len(delta_k))\n",
    "\tkz = np.fft.fftfreq(len(delta_k))\n",
    "\tkx_3d,ky_3d,kz_3d = np.meshgrid(kx,ky,kz)\n",
    "\tksq_3d = kx_3d**2 + ky_3d**2 + kz_3d**2\n",
    "\n",
    "\tt_kxkx = kx_3d*kx_3d*delta_k/ksq_3d\n",
    "\tt_kxky = kx_3d*ky_3d*delta_k/ksq_3d\n",
    "\tt_kxkz = kx_3d*kz_3d*delta_k/ksq_3d\n",
    "\tt_kyky = ky_3d*ky_3d*delta_k/ksq_3d\n",
    "\tt_kykz = ky_3d*kz_3d*delta_k/ksq_3d\n",
    "\tt_kzkz = kz_3d*kz_3d*delta_k/ksq_3d\n",
    "\n",
    "\tt_kxkx[0,0,0] = 0\n",
    "\tt_kxky[0,0,0] = 0\n",
    "\tt_kxkz[0,0,0] = 0\n",
    "\tt_kyky[0,0,0] = 0\n",
    "\tt_kykz[0,0,0] = 0\n",
    "\tt_kzkz[0,0,0] = 0\n",
    "\n",
    "\tt_xx = np.fft.ifftn(t_kxkx)\n",
    "\tt_xy = np.fft.ifftn(t_kxky)\n",
    "\tt_xz = np.fft.ifftn(t_kxkz)\n",
    "\tt_yy = np.fft.ifftn(t_kyky)\n",
    "\tt_yz = np.fft.ifftn(t_kykz)\n",
    "\tt_zz = np.fft.ifftn(t_kzkz)\n",
    "\n",
    "\tt_xx = np.real(t_xx)\n",
    "\tt_xy = np.real(t_xy)\n",
    "\tt_xz = np.real(t_xz)\n",
    "\tt_yy = np.real(t_yy)\n",
    "\tt_yz = np.real(t_yz)\n",
    "\tt_zz = np.real(t_zz)\n",
    "\n",
    "\tt_ij = np.array([[t_xx,t_xy,t_xz],[t_xy,t_yy,t_yz],[t_xz,t_yz,t_zz]])\n",
    "\tt_ij_trans = np.transpose(t_ij,axes=(2,3,4,0,1))\n",
    "\n",
    "\te = np.linalg.eigh(t_ij_trans)\n",
    "\treturn e"
   ]
  },
  {
   "cell_type": "markdown",
   "metadata": {},
   "source": [
    "**Warning: if computing the deformation tensor from scratch, the notebook takes >60 GB of memory; when loading a cached deformation tensor, the notebook takes ~20 GB in total.**"
   ]
  },
  {
   "cell_type": "code",
   "execution_count": 7,
   "metadata": {},
   "outputs": [],
   "source": [
    "SIM_MPC_LEN = 250\n",
    "TWEB_SMOOTHING_SCALE_MPC = 2\n",
    "\n",
    "try:\n",
    "    tweb_eigenvec = np.load(TWEB_EIGENVEC_PATH)\n",
    "except FileNotFoundError:\n",
    "    dm_density = np.fromfile(SIM_DENSITY_PATH, '<f4').astype(np.float64)\n",
    "    dm_density = np.reshape(dm_density, (1024,1024,1024), order='F')\n",
    "    # Down-interpolate density.\n",
    "    dm_density = scipy.ndimage.zoom(dm_density, 0.5)\n",
    "    mpc_per_pix = SIM_MPC_LEN / dm_density.shape[0]\n",
    "    # Gaussian smooth.\n",
    "    dm_density = scipy.ndimage.gaussian_filter(dm_density, TWEB_SMOOTHING_SCALE_MPC / mpc_per_pix)\n",
    "    tweb_eigenvec = compute_deformation_tensor(dm_density)[1]\n",
    "    np.save(TWEB_EIGENVEC_PATH, tweb_eigenvec)"
   ]
  },
  {
   "cell_type": "code",
   "execution_count": 8,
   "metadata": {},
   "outputs": [],
   "source": [
    "tweb_npix = tweb_eigenvec.shape[0]"
   ]
  },
  {
   "cell_type": "markdown",
   "metadata": {},
   "source": [
    "# 3D Alignment\n",
    "\n",
    "For each halo, we pick out the nearest grid point's eigenvector and compute the absolute value of the halo's longest-axis/shape vector, $\\vec{s}$ and the eigenvector.\n",
    "\n",
    "We take the absolute value since both the longest-axis vector and its negative describe the same thing.\n",
    "\n",
    "According to tidal alignment theory, halo shapes preferentially align with filaments and along sheets, which $\\vec{e_3}$ points along in both cases. When looking at the distribution of dot products, we expect to see, and do see, a bias towards 1. Lots of other studies have shown this for simulated halos at $z \\sim 0$ (see [here](https://ui.adsabs.harvard.edu/abs/2014MNRAS.443.1090F/abstract) or [here](https://ui.adsabs.harvard.edu/abs/2013MNRAS.428.2489L/abstract))."
   ]
  },
  {
   "cell_type": "code",
   "execution_count": 9,
   "metadata": {},
   "outputs": [],
   "source": [
    "# eigenvec_index = 0/1/2 for e_3/e_2/e_1.\n",
    "@numba.njit\n",
    "def nearest_eigenvecs(positions, eigenvec_index):\n",
    "    tweb = tweb_eigenvec[:, :, :, :, eigenvec_index]\n",
    "    nearest_eigenvecs = np.zeros_like(positions)\n",
    "    for i, pos_mpc in enumerate(positions):\n",
    "        pos_pix = pos_mpc * tweb_npix / SIM_MPC_LEN\n",
    "        # Hack since numba's implementation of np.round doesn't work.\n",
    "        pos_pix = np.array([round(pos_pix[0]), round(pos_pix[1]), round(pos_pix[2])])\n",
    "        rounded_pix = np.minimum(pos_pix, tweb_npix - 1)\n",
    "        nearest_eigenvecs[i] = tweb[rounded_pix[0], rounded_pix[1], rounded_pix[2], :]\n",
    "    return nearest_eigenvecs"
   ]
  },
  {
   "cell_type": "code",
   "execution_count": 10,
   "metadata": {},
   "outputs": [],
   "source": [
    "halo_e3 = nearest_eigenvecs(halo_positions, 0)"
   ]
  },
  {
   "cell_type": "code",
   "execution_count": 11,
   "metadata": {},
   "outputs": [],
   "source": [
    "assert np.sum(np.isfinite(halo_e3)) == len(halo_e3.flatten())\n",
    "assert np.sum(np.isfinite(halo_shapes)) == len(halo_shapes.flatten())"
   ]
  },
  {
   "cell_type": "code",
   "execution_count": 12,
   "metadata": {},
   "outputs": [],
   "source": [
    "@numba.njit\n",
    "def dot_product(eigenvecs, shapes):\n",
    "    norm_eigenvecs = eigenvecs / np.sqrt(eigenvecs[:, 0]**2 + eigenvecs[:, 1]**2 + eigenvecs[:, 2]**2).reshape(-1, 1)\n",
    "    norm_shapes = shapes / np.sqrt(shapes[:, 0]**2 + shapes[:, 1]**2 + shapes[:, 2]**2).reshape(-1, 1)\n",
    "    dot = np.array([np.dot(norm_eigenvecs[i], norm_shapes[i]) for i in range(len(norm_eigenvecs))])\n",
    "    return np.abs(dot)"
   ]
  },
  {
   "cell_type": "code",
   "execution_count": 13,
   "metadata": {},
   "outputs": [
    {
     "name": "stderr",
     "output_type": "stream",
     "text": [
      "<ipython-input-12-17bd9cec8cbb>:5: NumbaPerformanceWarning: np.dot() is faster on contiguous arrays, called on (array(float64, 1d, A), array(float64, 1d, A))\n",
      "  dot = np.array([np.dot(norm_eigenvecs[i], norm_shapes[i]) for i in range(len(norm_eigenvecs))])\n"
     ]
    },
    {
     "name": "stdout",
     "output_type": "stream",
     "text": [
      "91653 dot products are NaN, out of 16659142.\n"
     ]
    }
   ],
   "source": [
    "e3_align = dot_product(halo_e3, halo_shapes)\n",
    "# Some of the shape vectors are all zeros, which leads to nan.\n",
    "print(f'{np.sum(np.isnan(e3_align))} dot products are NaN, out of {len(e3_align)}.')\n",
    "e3_align = e3_align[~np.isnan(e3_align)]"
   ]
  },
  {
   "cell_type": "code",
   "execution_count": 23,
   "metadata": {},
   "outputs": [
    {
     "name": "stdout",
     "output_type": "stream",
     "text": [
      "Sanity check: dot product min/max is 7.58427998182043e-09 / 0.9999999680808498\n"
     ]
    }
   ],
   "source": [
    "print(f'Sanity check: dot product min/max is {np.min(e3_align)} / {np.max(e3_align)}')"
   ]
  },
  {
   "cell_type": "markdown",
   "metadata": {},
   "source": [
    "To make the trend clearer, we plot the dot product as a density histogram of 5 bins. The horizontal line at `y = 1` is the null case of no alignment trend.\n",
    "\n",
    "We also calculate the chi-squared metric and p-value for the (non-density) histogram bins."
   ]
  },
  {
   "cell_type": "code",
   "execution_count": 34,
   "metadata": {},
   "outputs": [
    {
     "name": "stdout",
     "output_type": "stream",
     "text": [
      "Chi-squared = 2.81e+03 | P-value = 0.0\n"
     ]
    },
    {
     "data": {
      "image/png": "[encoded data removed]",
      "text/plain": [
       "<Figure size 432x288 with 1 Axes>"
      ]
     },
     "metadata": {
      "needs_background": "light"
     },
     "output_type": "display_data"
    }
   ],
   "source": [
    "num, edges = np.histogram(e3_align, bins=5, density=True)\n",
    "centers = 0.5 * (edges[1:] + edges[:-1])\n",
    "\n",
    "plt.plot(centers, num, 'k.-')\n",
    "plt.xlim(0, 1)\n",
    "plt.axhline(1, linestyle='--', color='grey')\n",
    "\n",
    "chi_sq, chi_sq_pval = scipy.stats.chisquare(np.histogram(e3_align, bins=5)[0])\n",
    "print(f'Chi-squared = {chi_sq:.3} | P-value = {chi_sq_pval:.3}')"
   ]
  },
  {
   "cell_type": "markdown",
   "metadata": {},
   "source": [
    "# 2D Alignment\n",
    "\n",
    "Since in practice we can't measure the true 3D extent of galaxies, and can only measure their projections onto the sky, we want to see if an alignment trend in 3D space translates to one we can measure on the sky, which we call the 2D alignment.\n",
    "\n",
    "To do this, we vector-project all halo shape vectors **and** $\\vec{e_3}$ onto the plane normal to a chosen line-of-sight vector. We then repeat the dot product calculation.\n",
    "\n",
    "The null distribution of dot products we compare to is more complicated than in the 3D case--instead of being flat, it takes the form of $2Beta(0.5, 0.5) - 1$ where $Beta$ is the beta distribution with parameters $\\alpha = \\beta = 1/2$. This is because we can model no 3D alignment trend as pairs of uncorrelated random-direction vectors. (Derived [here](https://stats.stackexchange.com/questions/85916/distribution-of-scalar-products-of-two-random-unit-vectors-in-d-dimensions)).\n",
    "\n",
    "Since we only care about the absolute value of the dot products, we multiply the PDF of the null distribution by 2, and only look at the PDF between 0 and 1.\n",
    "\n",
    "The null distribution has a mean angle of $\\frac{\\pi}{4}$ between the two vectors, so we also compute Krolewski's summary statistic for how strong the 2D alignment trend is: $\\overline{arccos(\\vec{s} \\bullet \\vec{e_3})} - \\frac{\\pi}{4}$. The more negative this summary statistic is, the stronger the 2D alignment trend is.\n",
    "\n",
    "Because of the cosmological principle, we expect the 2D alignment trend for all halos in the snapshot to be **about the same regardless of the line-of-sight chosen**; if we randomly choose a bunch of lines of sight in random directions, the 2D alignment along them should be vaguely normally distributed.\n",
    "\n",
    "**For the Bolshoi-Planck snapshot, we're not seeing this.** Instead, for a single preferred direction, we see an absurdly strong 2D alignment, and almost no trend in all other directions."
   ]
  },
  {
   "cell_type": "code",
   "execution_count": 36,
   "metadata": {},
   "outputs": [],
   "source": [
    "@numba.njit\n",
    "def project_onto_plane(vecs, plane_norm_vec):\n",
    "    projected_vecs = np.zeros_like(vecs)\n",
    "    for i, v in enumerate(vecs):\n",
    "        v_norm = np.dot(v, plane_norm_vec) / np.dot(plane_norm_vec, plane_norm_vec) * plane_norm_vec\n",
    "        v_perp = v - v_norm\n",
    "        projected_vecs[i] = v_perp\n",
    "    return projected_vecs"
   ]
  },
  {
   "cell_type": "code",
   "execution_count": 43,
   "metadata": {},
   "outputs": [],
   "source": [
    "random_los_mean_angle = []\n",
    "random_los_dot = []\n",
    "np.random.seed(42)\n",
    "\n",
    "for _ in range(100):\n",
    "    random_los = np.random.randn(3)\n",
    "    random_los /= np.linalg.norm(random_los)\n",
    "    \n",
    "    proj_e3 = project_onto_plane(halo_e3.copy(), random_los)\n",
    "    proj_shapes = project_onto_plane(halo_shapes.copy(), random_los)\n",
    "    proj_dot = dot_product(proj_e3, proj_shapes)\n",
    "    proj_dot = proj_dot[~np.isnan(proj_dot)]\n",
    "    \n",
    "    random_los_mean_angle.append(np.mean(np.arccos(proj_dot)) - np.pi / 4)\n",
    "    random_los_dot.append(proj_dot)"
   ]
  },
  {
   "cell_type": "code",
   "execution_count": 44,
   "metadata": {},
   "outputs": [
    {
     "data": {
      "text/plain": [
       "(array([ 4.,  0.,  1.,  0.,  2.,  3.,  3.,  2.,  2.,  1.,  1.,  1.,  2.,\n",
       "         7.,  2.,  3.,  9.,  7., 21., 29.]),\n",
       " array([-0.01526911, -0.01448736, -0.01370562, -0.01292387, -0.01214212,\n",
       "        -0.01136038, -0.01057863, -0.00979689, -0.00901514, -0.00823339,\n",
       "        -0.00745165, -0.0066699 , -0.00588815, -0.00510641, -0.00432466,\n",
       "        -0.00354292, -0.00276117, -0.00197942, -0.00119768, -0.00041593,\n",
       "         0.00036582]),\n",
       " <BarContainer object of 20 artists>)"
      ]
     },
     "execution_count": 44,
     "metadata": {},
     "output_type": "execute_result"
    },
    {
     "data": {
      "image/png": "[encoded data removed]",
      "text/plain": [
       "<Figure size 432x288 with 1 Axes>"
      ]
     },
     "metadata": {
      "needs_background": "light"
     },
     "output_type": "display_data"
    }
   ],
   "source": [
    "plt.hist(random_los_mean_angle, bins=20)"
   ]
  },
  {
   "cell_type": "code",
   "execution_count": 45,
   "metadata": {},
   "outputs": [],
   "source": [
    "def plot_2d_alignment(dot_products, n_bins=5):\n",
    "    # s is the size of the sample to draw.\n",
    "    null_dist = lambda s: np.abs(scipy.stats.beta.rvs(0.5, 0.5, loc=-1, scale=2, size=s))\n",
    "    null_cdf = lambda x: 2 * (scipy.stats.beta.cdf(x, 0.5, 0.5, loc=-1, scale=2) - scipy.stats.beta.cdf(0, 0.5, 0.5, loc=-1, scale=2))\n",
    "    \n",
    "    num, edges = np.histogram(dot_products, bins=n_bins, density=True)\n",
    "    centers = 0.5 * (edges[1:] + edges[:-1])\n",
    "    \n",
    "    # Subtract out null distribution's expected density for each bin.\n",
    "    null_num = np.array([null_cdf(edges[i + 1]) - null_cdf(edges[i]) for i in range(len(num))]) * n_bins\n",
    "    num -= null_num\n",
    "    \n",
    "    plt.plot(centers, num, 'k.-')\n",
    "    plt.xlim(0, 1)\n",
    "    plt.axhline(0, linestyle='--', color='grey')\n",
    "\n",
    "    # Compute chi-squared against non-uniform null distribution.\n",
    "    chi_sq, chi_sq_pval = scipy.stats.chisquare(np.histogram(dot_products, bins=n_bins)[0], f_exp=null_num / n_bins * len(dot_products))\n",
    "    print(f'Chi-squared = {chi_sq:.3} | P-value = {chi_sq_pval:.3}')"
   ]
  },
  {
   "cell_type": "code",
   "execution_count": 48,
   "metadata": {},
   "outputs": [
    {
     "name": "stdout",
     "output_type": "stream",
     "text": [
      "Most negative mean-angle statistic: strongest 2D alignment trend.\n",
      "Chi-squared = 1.77e+04 | P-value = 0.0\n"
     ]
    },
    {
     "data": {
      "image/png": "[encoded data removed]",
      "text/plain": [
       "<Figure size 432x288 with 1 Axes>"
      ]
     },
     "metadata": {
      "needs_background": "light"
     },
     "output_type": "display_data"
    },
    {
     "name": "stdout",
     "output_type": "stream",
     "text": [
      "Most positive mean-angle statistic: weakest 2D alignment trend.\n",
      "Chi-squared = 11.5 | P-value = 0.021\n"
     ]
    },
    {
     "data": {
      "image/png": "[encoded data removed]",
      "text/plain": [
       "<Figure size 432x288 with 1 Axes>"
      ]
     },
     "metadata": {
      "needs_background": "light"
     },
     "output_type": "display_data"
    }
   ],
   "source": [
    "# Plot most negative and least negative mean-angles' 2D alignment histograms.\n",
    "print('Most negative mean-angle statistic: strongest 2D alignment trend.')\n",
    "plot_2d_alignment(random_los_dot[np.argmin(random_los_mean_angle)])\n",
    "\n",
    "plt.show()\n",
    "\n",
    "print('Most positive mean-angle statistic: weakest 2D alignment trend.')\n",
    "plot_2d_alignment(random_los_dot[np.argmax(random_los_mean_angle)])"
   ]
  },
  {
   "cell_type": "code",
   "execution_count": null,
   "metadata": {},
   "outputs": [],
   "source": []
  }
 ],
 "metadata": {
  "kernelspec": {
   "display_name": "2d-align-demo",
   "language": "python",
   "name": "2d-align-demo"
  },
  "language_info": {
   "codemirror_mode": {
    "name": "ipython",
    "version": 3
   },
   "file_extension": ".py",
   "mimetype": "text/x-python",
   "name": "python",
   "nbconvert_exporter": "python",
   "pygments_lexer": "ipython3",
   "version": "3.7.9"
  }
 },
 "nbformat": 4,
 "nbformat_minor": 4
}
